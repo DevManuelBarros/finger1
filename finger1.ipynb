{
 "cells": [
  {
   "cell_type": "code",
   "execution_count": 3,
   "metadata": {},
   "outputs": [],
   "source": [
    "import pandas as pd\n",
    "import numpy as np\n",
    "import matplotlib.pyplot as plt\n",
    "%matplotlib inline"
   ]
  },
  {
   "cell_type": "markdown",
   "metadata": {},
   "source": [
    "## Analisis Previo.\n",
    "---\n",
    "levantamos el dataset y nos fijamos el tipo, nombre de los campos y su tamaño."
   ]
  },
  {
   "cell_type": "code",
   "execution_count": 4,
   "metadata": {},
   "outputs": [],
   "source": [
    "df_trocafone = pd.read_csv('data/events.csv', low_memory=False)"
   ]
  },
  {
   "cell_type": "code",
   "execution_count": 5,
   "metadata": {},
   "outputs": [
    {
     "data": {
      "text/plain": [
       "timestamp                   object\n",
       "event                       object\n",
       "person                      object\n",
       "url                         object\n",
       "sku                         object\n",
       "model                       object\n",
       "condition                   object\n",
       "storage                     object\n",
       "color                       object\n",
       "skus                        object\n",
       "search_term                 object\n",
       "staticpage                  object\n",
       "campaign_source             object\n",
       "search_engine               object\n",
       "channel                     object\n",
       "new_vs_returning            object\n",
       "city                        object\n",
       "region                      object\n",
       "country                     object\n",
       "device_type                 object\n",
       "screen_resolution           object\n",
       "operating_system_version    object\n",
       "browser_version             object\n",
       "dtype: object"
      ]
     },
     "execution_count": 5,
     "metadata": {},
     "output_type": "execute_result"
    }
   ],
   "source": [
    "df_trocafone.dtypes"
   ]
  },
  {
   "cell_type": "code",
   "execution_count": 6,
   "metadata": {},
   "outputs": [
    {
     "name": "stdout",
     "output_type": "stream",
     "text": [
      "Registros: 1011288 | Columnas: 23\n"
     ]
    }
   ],
   "source": [
    "# Cantidad de Registros y columnas del dataset\n",
    "print(\"Registros: {} | Columnas: {}\".format(df_trocafone.shape[0], df_trocafone.shape[1]))"
   ]
  },
  {
   "cell_type": "code",
   "execution_count": 7,
   "metadata": {},
   "outputs": [
    {
     "data": {
      "text/html": [
       "<div>\n",
       "<style scoped>\n",
       "    .dataframe tbody tr th:only-of-type {\n",
       "        vertical-align: middle;\n",
       "    }\n",
       "\n",
       "    .dataframe tbody tr th {\n",
       "        vertical-align: top;\n",
       "    }\n",
       "\n",
       "    .dataframe thead th {\n",
       "        text-align: right;\n",
       "    }\n",
       "</style>\n",
       "<table border=\"1\" class=\"dataframe\">\n",
       "  <thead>\n",
       "    <tr style=\"text-align: right;\">\n",
       "      <th></th>\n",
       "      <th>timestamp</th>\n",
       "      <th>event</th>\n",
       "      <th>person</th>\n",
       "      <th>url</th>\n",
       "      <th>sku</th>\n",
       "      <th>model</th>\n",
       "      <th>condition</th>\n",
       "      <th>storage</th>\n",
       "      <th>color</th>\n",
       "      <th>skus</th>\n",
       "      <th>...</th>\n",
       "      <th>search_engine</th>\n",
       "      <th>channel</th>\n",
       "      <th>new_vs_returning</th>\n",
       "      <th>city</th>\n",
       "      <th>region</th>\n",
       "      <th>country</th>\n",
       "      <th>device_type</th>\n",
       "      <th>screen_resolution</th>\n",
       "      <th>operating_system_version</th>\n",
       "      <th>browser_version</th>\n",
       "    </tr>\n",
       "  </thead>\n",
       "  <tbody>\n",
       "    <tr>\n",
       "      <th>0</th>\n",
       "      <td>2018-05-31 23:38:05</td>\n",
       "      <td>ad campaign hit</td>\n",
       "      <td>0004b0a2</td>\n",
       "      <td>/comprar/iphone/iphone-5s</td>\n",
       "      <td>NaN</td>\n",
       "      <td>NaN</td>\n",
       "      <td>NaN</td>\n",
       "      <td>NaN</td>\n",
       "      <td>NaN</td>\n",
       "      <td>NaN</td>\n",
       "      <td>...</td>\n",
       "      <td>NaN</td>\n",
       "      <td>NaN</td>\n",
       "      <td>NaN</td>\n",
       "      <td>NaN</td>\n",
       "      <td>NaN</td>\n",
       "      <td>NaN</td>\n",
       "      <td>NaN</td>\n",
       "      <td>NaN</td>\n",
       "      <td>NaN</td>\n",
       "      <td>NaN</td>\n",
       "    </tr>\n",
       "    <tr>\n",
       "      <th>1</th>\n",
       "      <td>2018-05-31 23:38:05</td>\n",
       "      <td>visited site</td>\n",
       "      <td>0004b0a2</td>\n",
       "      <td>NaN</td>\n",
       "      <td>NaN</td>\n",
       "      <td>NaN</td>\n",
       "      <td>NaN</td>\n",
       "      <td>NaN</td>\n",
       "      <td>NaN</td>\n",
       "      <td>NaN</td>\n",
       "      <td>...</td>\n",
       "      <td>NaN</td>\n",
       "      <td>Paid</td>\n",
       "      <td>New</td>\n",
       "      <td>Camaragibe</td>\n",
       "      <td>Pernambuco</td>\n",
       "      <td>Brazil</td>\n",
       "      <td>Smartphone</td>\n",
       "      <td>360x640</td>\n",
       "      <td>Android 6</td>\n",
       "      <td>Chrome Mobile 39</td>\n",
       "    </tr>\n",
       "    <tr>\n",
       "      <th>2</th>\n",
       "      <td>2018-05-31 23:38:09</td>\n",
       "      <td>viewed product</td>\n",
       "      <td>0004b0a2</td>\n",
       "      <td>NaN</td>\n",
       "      <td>2694.0</td>\n",
       "      <td>iPhone 5s</td>\n",
       "      <td>Bom</td>\n",
       "      <td>32GB</td>\n",
       "      <td>Cinza espacial</td>\n",
       "      <td>NaN</td>\n",
       "      <td>...</td>\n",
       "      <td>NaN</td>\n",
       "      <td>NaN</td>\n",
       "      <td>NaN</td>\n",
       "      <td>NaN</td>\n",
       "      <td>NaN</td>\n",
       "      <td>NaN</td>\n",
       "      <td>NaN</td>\n",
       "      <td>NaN</td>\n",
       "      <td>NaN</td>\n",
       "      <td>NaN</td>\n",
       "    </tr>\n",
       "    <tr>\n",
       "      <th>3</th>\n",
       "      <td>2018-05-31 23:38:40</td>\n",
       "      <td>checkout</td>\n",
       "      <td>0004b0a2</td>\n",
       "      <td>NaN</td>\n",
       "      <td>2694.0</td>\n",
       "      <td>iPhone 5s</td>\n",
       "      <td>Bom</td>\n",
       "      <td>32GB</td>\n",
       "      <td>Cinza espacial</td>\n",
       "      <td>NaN</td>\n",
       "      <td>...</td>\n",
       "      <td>NaN</td>\n",
       "      <td>NaN</td>\n",
       "      <td>NaN</td>\n",
       "      <td>NaN</td>\n",
       "      <td>NaN</td>\n",
       "      <td>NaN</td>\n",
       "      <td>NaN</td>\n",
       "      <td>NaN</td>\n",
       "      <td>NaN</td>\n",
       "      <td>NaN</td>\n",
       "    </tr>\n",
       "    <tr>\n",
       "      <th>4</th>\n",
       "      <td>2018-05-29 13:29:25</td>\n",
       "      <td>viewed product</td>\n",
       "      <td>0006a21a</td>\n",
       "      <td>NaN</td>\n",
       "      <td>15338.0</td>\n",
       "      <td>Samsung Galaxy S8</td>\n",
       "      <td>Bom</td>\n",
       "      <td>64GB</td>\n",
       "      <td>Dourado</td>\n",
       "      <td>NaN</td>\n",
       "      <td>...</td>\n",
       "      <td>NaN</td>\n",
       "      <td>NaN</td>\n",
       "      <td>NaN</td>\n",
       "      <td>NaN</td>\n",
       "      <td>NaN</td>\n",
       "      <td>NaN</td>\n",
       "      <td>NaN</td>\n",
       "      <td>NaN</td>\n",
       "      <td>NaN</td>\n",
       "      <td>NaN</td>\n",
       "    </tr>\n",
       "    <tr>\n",
       "      <th>5</th>\n",
       "      <td>2018-05-29 13:29:26</td>\n",
       "      <td>visited site</td>\n",
       "      <td>0006a21a</td>\n",
       "      <td>NaN</td>\n",
       "      <td>NaN</td>\n",
       "      <td>NaN</td>\n",
       "      <td>NaN</td>\n",
       "      <td>NaN</td>\n",
       "      <td>NaN</td>\n",
       "      <td>NaN</td>\n",
       "      <td>...</td>\n",
       "      <td>NaN</td>\n",
       "      <td>Paid</td>\n",
       "      <td>New</td>\n",
       "      <td>Rio de Janeiro</td>\n",
       "      <td>Rio de Janeiro</td>\n",
       "      <td>Brazil</td>\n",
       "      <td>Smartphone</td>\n",
       "      <td>360x640</td>\n",
       "      <td>Android 5.1.1</td>\n",
       "      <td>Android 5.1</td>\n",
       "    </tr>\n",
       "    <tr>\n",
       "      <th>6</th>\n",
       "      <td>2018-05-29 13:29:27</td>\n",
       "      <td>ad campaign hit</td>\n",
       "      <td>0006a21a</td>\n",
       "      <td>/comprar/samsung/galaxy-s8</td>\n",
       "      <td>NaN</td>\n",
       "      <td>NaN</td>\n",
       "      <td>NaN</td>\n",
       "      <td>NaN</td>\n",
       "      <td>NaN</td>\n",
       "      <td>NaN</td>\n",
       "      <td>...</td>\n",
       "      <td>NaN</td>\n",
       "      <td>NaN</td>\n",
       "      <td>NaN</td>\n",
       "      <td>NaN</td>\n",
       "      <td>NaN</td>\n",
       "      <td>NaN</td>\n",
       "      <td>NaN</td>\n",
       "      <td>NaN</td>\n",
       "      <td>NaN</td>\n",
       "      <td>NaN</td>\n",
       "    </tr>\n",
       "    <tr>\n",
       "      <th>7</th>\n",
       "      <td>2018-05-29 13:29:35</td>\n",
       "      <td>checkout</td>\n",
       "      <td>0006a21a</td>\n",
       "      <td>NaN</td>\n",
       "      <td>15338.0</td>\n",
       "      <td>Samsung Galaxy S8</td>\n",
       "      <td>Bom</td>\n",
       "      <td>64GB</td>\n",
       "      <td>Dourado</td>\n",
       "      <td>NaN</td>\n",
       "      <td>...</td>\n",
       "      <td>NaN</td>\n",
       "      <td>NaN</td>\n",
       "      <td>NaN</td>\n",
       "      <td>NaN</td>\n",
       "      <td>NaN</td>\n",
       "      <td>NaN</td>\n",
       "      <td>NaN</td>\n",
       "      <td>NaN</td>\n",
       "      <td>NaN</td>\n",
       "      <td>NaN</td>\n",
       "    </tr>\n",
       "  </tbody>\n",
       "</table>\n",
       "<p>8 rows × 23 columns</p>\n",
       "</div>"
      ],
      "text/plain": [
       "             timestamp            event    person                         url  \\\n",
       "0  2018-05-31 23:38:05  ad campaign hit  0004b0a2   /comprar/iphone/iphone-5s   \n",
       "1  2018-05-31 23:38:05     visited site  0004b0a2                         NaN   \n",
       "2  2018-05-31 23:38:09   viewed product  0004b0a2                         NaN   \n",
       "3  2018-05-31 23:38:40         checkout  0004b0a2                         NaN   \n",
       "4  2018-05-29 13:29:25   viewed product  0006a21a                         NaN   \n",
       "5  2018-05-29 13:29:26     visited site  0006a21a                         NaN   \n",
       "6  2018-05-29 13:29:27  ad campaign hit  0006a21a  /comprar/samsung/galaxy-s8   \n",
       "7  2018-05-29 13:29:35         checkout  0006a21a                         NaN   \n",
       "\n",
       "       sku              model condition storage           color skus  \\\n",
       "0      NaN                NaN       NaN     NaN             NaN  NaN   \n",
       "1      NaN                NaN       NaN     NaN             NaN  NaN   \n",
       "2   2694.0          iPhone 5s       Bom    32GB  Cinza espacial  NaN   \n",
       "3   2694.0          iPhone 5s       Bom    32GB  Cinza espacial  NaN   \n",
       "4  15338.0  Samsung Galaxy S8       Bom    64GB         Dourado  NaN   \n",
       "5      NaN                NaN       NaN     NaN             NaN  NaN   \n",
       "6      NaN                NaN       NaN     NaN             NaN  NaN   \n",
       "7  15338.0  Samsung Galaxy S8       Bom    64GB         Dourado  NaN   \n",
       "\n",
       "         ...        search_engine channel new_vs_returning            city  \\\n",
       "0        ...                  NaN     NaN              NaN             NaN   \n",
       "1        ...                  NaN    Paid              New      Camaragibe   \n",
       "2        ...                  NaN     NaN              NaN             NaN   \n",
       "3        ...                  NaN     NaN              NaN             NaN   \n",
       "4        ...                  NaN     NaN              NaN             NaN   \n",
       "5        ...                  NaN    Paid              New  Rio de Janeiro   \n",
       "6        ...                  NaN     NaN              NaN             NaN   \n",
       "7        ...                  NaN     NaN              NaN             NaN   \n",
       "\n",
       "           region country device_type screen_resolution  \\\n",
       "0             NaN     NaN         NaN               NaN   \n",
       "1      Pernambuco  Brazil  Smartphone           360x640   \n",
       "2             NaN     NaN         NaN               NaN   \n",
       "3             NaN     NaN         NaN               NaN   \n",
       "4             NaN     NaN         NaN               NaN   \n",
       "5  Rio de Janeiro  Brazil  Smartphone           360x640   \n",
       "6             NaN     NaN         NaN               NaN   \n",
       "7             NaN     NaN         NaN               NaN   \n",
       "\n",
       "  operating_system_version   browser_version  \n",
       "0                      NaN               NaN  \n",
       "1                Android 6  Chrome Mobile 39  \n",
       "2                      NaN               NaN  \n",
       "3                      NaN               NaN  \n",
       "4                      NaN               NaN  \n",
       "5            Android 5.1.1       Android 5.1  \n",
       "6                      NaN               NaN  \n",
       "7                      NaN               NaN  \n",
       "\n",
       "[8 rows x 23 columns]"
      ]
     },
     "execution_count": 7,
     "metadata": {},
     "output_type": "execute_result"
    }
   ],
   "source": [
    "#Observamos lo primeros 8 registros.\n",
    "df_trocafone.head(8)"
   ]
  },
  {
   "cell_type": "markdown",
   "metadata": {},
   "source": [
    "## Busqueda del Evento más predominante\n",
    "---\n",
    "Imprimimos todos los eventos y filtramos el evento predominante en el DataSet.\n"
   ]
  },
  {
   "cell_type": "code",
   "execution_count": 16,
   "metadata": {},
   "outputs": [
    {
     "data": {
      "text/plain": [
       "viewed product       528931\n",
       "brand listing         98635\n",
       "visited site          87378\n",
       "ad campaign hit       82827\n",
       "generic listing       67534\n",
       "searched products     56073\n",
       "search engine hit     50957\n",
       "checkout              33735\n",
       "staticpage             3598\n",
       "conversion             1172\n",
       "lead                    448\n",
       "Name: event, dtype: int64"
      ]
     },
     "execution_count": 16,
     "metadata": {},
     "output_type": "execute_result"
    }
   ],
   "source": [
    "#listamos todos los eventos.\n",
    "eventos = df_trocafone['event'].value_counts()\n",
    "print(eventos)"
   ]
  },
  {
   "cell_type": "code",
   "execution_count": 9,
   "metadata": {},
   "outputs": [
    {
     "name": "stdout",
     "output_type": "stream",
     "text": [
      "El evento predominante es: 'viewed product' con 528931 de apariciones en el Dataset\n"
     ]
    }
   ],
   "source": [
    "#Filtramos e imprimimos \n",
    "evento = df_trocafone['event'].value_counts().head(1)\n",
    "print(\"El evento predominante es: '{}' con {} de apariciones en el Dataset\".format(evento.index[0], evento[0]))"
   ]
  },
  {
   "cell_type": "markdown",
   "metadata": {},
   "source": [
    "## Graficamos los resultados obtenidos."
   ]
  },
  {
   "cell_type": "code",
   "execution_count": 10,
   "metadata": {},
   "outputs": [
    {
     "data": {
      "image/png": "[encoded data removed]",
      "text/plain": [
       "<matplotlib.figure.Figure at 0x87fa230>"
      ]
     },
     "metadata": {},
     "output_type": "display_data"
    }
   ],
   "source": [
    "#Generamos el grafico.\n",
    "graf = eventos.plot(kind='bar', grid=True, figsize=(13, 11),fontsize=13)\n",
    "graf.set_title(\"Incidencia de Eventos generados\", fontsize=19)\n",
    "graf.set_ylabel(\"Cantidad de Veces Generados\", fontsize=15)\n",
    "graf.set_xlabel(\"Eventos\", fontsize=15)\n",
    "plt.show()"
   ]
  },
  {
   "cell_type": "markdown",
   "metadata": {},
   "source": [
    "### Observaciones.\n",
    "---\n",
    "La vista sugiere 52% es la visualización del producto. Por otro lado, tenemos una generación de checkout del 3.34% y eso se reduce en un 0.12%."
   ]
  },
  {
   "cell_type": "markdown",
   "metadata": {},
   "source": [
    "## Busqueda del producto con más conversiones"
   ]
  },
  {
   "cell_type": "code",
   "execution_count": 11,
   "metadata": {},
   "outputs": [
    {
     "data": {
      "text/html": [
       "<div>\n",
       "<style scoped>\n",
       "    .dataframe tbody tr th:only-of-type {\n",
       "        vertical-align: middle;\n",
       "    }\n",
       "\n",
       "    .dataframe tbody tr th {\n",
       "        vertical-align: top;\n",
       "    }\n",
       "\n",
       "    .dataframe thead th {\n",
       "        text-align: right;\n",
       "    }\n",
       "</style>\n",
       "<table border=\"1\" class=\"dataframe\">\n",
       "  <thead>\n",
       "    <tr style=\"text-align: right;\">\n",
       "      <th></th>\n",
       "      <th></th>\n",
       "      <th></th>\n",
       "      <th>event</th>\n",
       "    </tr>\n",
       "    <tr>\n",
       "      <th>sku</th>\n",
       "      <th>model</th>\n",
       "      <th>condition</th>\n",
       "      <th></th>\n",
       "    </tr>\n",
       "  </thead>\n",
       "  <tbody>\n",
       "    <tr>\n",
       "      <th>6371.0</th>\n",
       "      <th>Samsung Galaxy J5</th>\n",
       "      <th>Bom</th>\n",
       "      <td>30</td>\n",
       "    </tr>\n",
       "    <tr>\n",
       "      <th>6370.0</th>\n",
       "      <th>Samsung Galaxy J5</th>\n",
       "      <th>Muito Bom</th>\n",
       "      <td>18</td>\n",
       "    </tr>\n",
       "    <tr>\n",
       "      <th>7631.0</th>\n",
       "      <th>Motorola Moto G3 4G</th>\n",
       "      <th>Bom</th>\n",
       "      <td>17</td>\n",
       "    </tr>\n",
       "    <tr>\n",
       "      <th>2692.0</th>\n",
       "      <th>iPhone 5s</th>\n",
       "      <th>Bom</th>\n",
       "      <td>16</td>\n",
       "    </tr>\n",
       "    <tr>\n",
       "      <th>3371.0</th>\n",
       "      <th>Samsung Galaxy S6 Flat</th>\n",
       "      <th>Bom</th>\n",
       "      <td>14</td>\n",
       "    </tr>\n",
       "  </tbody>\n",
       "</table>\n",
       "</div>"
      ],
      "text/plain": [
       "                                         event\n",
       "sku    model                  condition       \n",
       "6371.0 Samsung Galaxy J5      Bom           30\n",
       "6370.0 Samsung Galaxy J5      Muito Bom     18\n",
       "7631.0 Motorola Moto G3 4G    Bom           17\n",
       "2692.0 iPhone 5s              Bom           16\n",
       "3371.0 Samsung Galaxy S6 Flat Bom           14"
      ]
     },
     "execution_count": 11,
     "metadata": {},
     "output_type": "execute_result"
    }
   ],
   "source": [
    "#primero localizo las conversiones para posteriormente agruparlas y contarlas.\n",
    "df_filtrado = df_trocafone.loc[df_trocafone['event'] == 'conversion',:]\n",
    "#Traigo tres columnas por la diferencia entre el primer producto y el segundo es el campo 'condition'.\n",
    "sku_conversion = df_filtrado.groupby(['sku', 'model','condition']).agg({'event':'count'}).sort_values('event',ascending=False).head(5)\n",
    "sku_conversion "
   ]
  },
  {
   "cell_type": "code",
   "execution_count": 12,
   "metadata": {},
   "outputs": [
    {
     "data": {
      "image/png": "[encoded data removed]",
      "text/plain": [
       "<matplotlib.figure.Figure at 0x94ef190>"
      ]
     },
     "metadata": {},
     "output_type": "display_data"
    }
   ],
   "source": [
    "graf_sku_conversion = sku_conversion.plot(kind='barh', grid=True, figsize=(14, 12),fontsize=13, legend=False)\n",
    "graf_sku_conversion.set_title(\"Top 5 de Productos vendidos\", fontsize=19)\n",
    "graf_sku_conversion.set_ylabel(\"Sku - Modelo - Estado\", fontsize=15)\n",
    "graf_sku_conversion.set_xlabel(\"Cantidad de unidades vendidas\", fontsize=15)\n",
    "plt.show()"
   ]
  },
  {
   "cell_type": "markdown",
   "metadata": {},
   "source": [
    "### Observación\n",
    "---\n",
    "\n",
    "l más comprado definitivamente es el Samsung Galaxy J5, al margen de estar en la primera posición también se \n",
    "encuentra en la segunda posición con un estado distinto."
   ]
  },
  {
   "cell_type": "markdown",
   "metadata": {},
   "source": [
    "### Usuarios que realizaron más Eventos."
   ]
  },
  {
   "cell_type": "code",
   "execution_count": 13,
   "metadata": {},
   "outputs": [
    {
     "name": "stdout",
     "output_type": "stream",
     "text": [
      "posicion: 1) El usuario: 71492f2b registra una actividad de 2771 eventos.\n",
      "posicion: 2) El usuario: 6b07be7b registra una actividad de 2770 eventos.\n",
      "posicion: 3) El usuario: 285101a1 registra una actividad de 2140 eventos.\n",
      "posicion: 4) El usuario: 3e34b3cf registra una actividad de 1877 eventos.\n",
      "posicion: 5) El usuario: 2d5a84c1 registra una actividad de 1800 eventos.\n",
      "posicion: 6) El usuario: 5f25cb5d registra una actividad de 1797 eventos.\n",
      "posicion: 7) El usuario: 5af7e2bc registra una actividad de 1773 eventos.\n",
      "posicion: 8) El usuario: 3b5a5833 registra una actividad de 1705 eventos.\n",
      "posicion: 9) El usuario: d7e60792 registra una actividad de 1352 eventos.\n",
      "posicion: 10) El usuario: cd6e0b8d registra una actividad de 1254 eventos.\n"
     ]
    }
   ],
   "source": [
    "top_ten_user = df_trocafone['person'].value_counts().head(10)\n",
    "i = 0\n",
    "qty_event_ten_user = 0\n",
    "while(i<10):\n",
    "    print(\"posicion: {}) El usuario: {} registra una actividad de {} eventos.\".format(i+1, \n",
    "                                                                                      top_ten_user.index[i], \n",
    "                                                                                      top_ten_user[i]))\n",
    "    qty_event_ten_user += top_ten_user[i]\n",
    "    i +=1\n",
    "\n",
    "top_ten_user_df = top_ten_user.to_frame()"
   ]
  },
  {
   "cell_type": "code",
   "execution_count": 14,
   "metadata": {},
   "outputs": [
    {
     "name": "stdout",
     "output_type": "stream",
     "text": [
      "Los primeros 10 usuarios suman: 19239 eventos contra un total de: 1011288 eventos, la participacion es de: 1.90%\n"
     ]
    }
   ],
   "source": [
    "total_eventos =  sum(df_trocafone['person'].value_counts())\n",
    "print(\"Los primeros 10 usuarios suman: {} eventos contra un total de: {} eventos, la participacion es de: {:.2f}%\".format(qty_event_ten_user,  total_eventos,  (qty_event_ten_user/total_eventos*100)))"
   ]
  },
  {
   "cell_type": "code",
   "execution_count": 15,
   "metadata": {},
   "outputs": [
    {
     "data": {
      "image/png": "[encoded data removed]",
      "text/plain": [
       "<matplotlib.figure.Figure at 0x95338f0>"
      ]
     },
     "metadata": {},
     "output_type": "display_data"
    }
   ],
   "source": [
    "graf_user = top_ten_user.plot(kind='bar', grid=True, figsize=(13, 11),fontsize=13)\n",
    "graf_user.set_title(\"Usuario recurrentes\", fontsize=19)\n",
    "graf_user.set_ylabel(\"Cantidad de Eventos generados\", fontsize=15)\n",
    "graf_user.set_xlabel(\"Identificador de Usuario\", fontsize=15)\n",
    "plt.show()"
   ]
  },
  {
   "cell_type": "markdown",
   "metadata": {},
   "source": [
    "### Observaciones\n",
    "---\n",
    "\n",
    "La cantidad de interacciones de los usuarios varian casi a la mitad entre la primer posición y la última. Y la participación total de estos diez usuarios sobre toda la población es de 1.90%"
   ]
  }
 ],
 "metadata": {
  "kernelspec": {
   "display_name": "Python 3",
   "language": "python",
   "name": "python3"
  },
  "language_info": {
   "codemirror_mode": {
    "name": "ipython",
    "version": 3
   },
   "file_extension": ".py",
   "mimetype": "text/x-python",
   "name": "python",
   "nbconvert_exporter": "python",
   "pygments_lexer": "ipython3",
   "version": "3.5.4"
  }
 },
 "nbformat": 4,
 "nbformat_minor": 2
}
